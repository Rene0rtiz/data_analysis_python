{
 "cells": [
  {
   "cell_type": "markdown",
   "metadata": {},
   "source": [
    "### Pandas Module\n",
    "* allows us to carryout data analytics operations in python\n",
    "    * importing data\n",
    "    * filtering data\n",
    "    * sorting data\n",
    "    * aggregating data\n",
    "    * joining data"
   ]
  },
  {
   "cell_type": "code",
   "execution_count": 1,
   "metadata": {},
   "outputs": [],
   "source": [
    "# first import pandas module\n",
    "import pandas as pd"
   ]
  },
  {
   "cell_type": "markdown",
   "metadata": {},
   "source": [
    "#### Importing and Viewing Data"
   ]
  },
  {
   "cell_type": "code",
   "execution_count": null,
   "metadata": {},
   "outputs": [],
   "source": [
    "# import data and store into variable\n",
    "df = pd.read_csv(r'/home/hzrd/Code/github/data_analysis_python/Data/raw/Expenses_Data_Details.csv')\n",
    "df"
   ]
  },
  {
   "cell_type": "code",
   "execution_count": null,
   "metadata": {},
   "outputs": [],
   "source": [
    "# display small section of data (top x rows: df.head(x))\n",
    "df.head(10)"
   ]
  },
  {
   "cell_type": "code",
   "execution_count": null,
   "metadata": {},
   "outputs": [],
   "source": [
    "# look at the logic of our first filter and apply, output is True/False\n",
    "df[\"Transaction Name\"] == \"Dinner\""
   ]
  },
  {
   "cell_type": "code",
   "execution_count": null,
   "metadata": {},
   "outputs": [],
   "source": [
    "# apply the filter on the data frame itself\n",
    "df[df[\"Transaction Name\"] == 'Dinner']"
   ]
  },
  {
   "cell_type": "code",
   "execution_count": null,
   "metadata": {},
   "outputs": [],
   "source": [
    "# applying numerical filter\n",
    "df[df[\"Amount\"] > 20]"
   ]
  },
  {
   "cell_type": "code",
   "execution_count": null,
   "metadata": {},
   "outputs": [],
   "source": [
    "# applying more than one filter\n",
    "df[(df[\"Amount\"] > 20) & (df[\"Transaction Name\"] == \"Dinner\")]"
   ]
  },
  {
   "cell_type": "code",
   "execution_count": null,
   "metadata": {},
   "outputs": [],
   "source": [
    "# multiple filters (OR)\n",
    "df[(df[\"Transaction Name\"] == \"Lunch\") | (df[\"Transaction Name\"] == 'Dinner')]"
   ]
  },
  {
   "cell_type": "markdown",
   "metadata": {},
   "source": [
    "#### Sorting Data"
   ]
  },
  {
   "cell_type": "code",
   "execution_count": null,
   "metadata": {},
   "outputs": [],
   "source": [
    "df.head()"
   ]
  },
  {
   "cell_type": "code",
   "execution_count": null,
   "metadata": {},
   "outputs": [],
   "source": [
    "# ascending order\n",
    "df.sort_values(by=['Amount'], ascending = True)"
   ]
  },
  {
   "cell_type": "code",
   "execution_count": null,
   "metadata": {},
   "outputs": [],
   "source": [
    "# descending order\n",
    "df.sort_values(by=['Amount'], ascending = False)"
   ]
  },
  {
   "cell_type": "code",
   "execution_count": null,
   "metadata": {},
   "outputs": [],
   "source": [
    "# can also sort on text colums\n",
    "df.sort_values(by=['Supplier ID'], ascending = True)"
   ]
  },
  {
   "cell_type": "code",
   "execution_count": null,
   "metadata": {},
   "outputs": [],
   "source": [
    "df.sort_values(by=['Transaction Name'], ascending = True)"
   ]
  },
  {
   "cell_type": "markdown",
   "metadata": {},
   "source": [
    "### Aggregating Data"
   ]
  },
  {
   "cell_type": "code",
   "execution_count": null,
   "metadata": {},
   "outputs": [],
   "source": [
    "df"
   ]
  },
  {
   "cell_type": "code",
   "execution_count": null,
   "metadata": {},
   "outputs": [],
   "source": [
    "# create a new data frame where the 'Transaction Name' and 'Amount' colums are present\n",
    "df_x = df[['Transaction Name', 'Amount']]\n",
    "df_x"
   ]
  },
  {
   "cell_type": "code",
   "execution_count": null,
   "metadata": {},
   "outputs": [],
   "source": [
    "# aggregation can be carried out where the sum of a value is considered\n",
    "df_x.groupby(['Transaction Name'], as_index=False).sum()"
   ]
  },
  {
   "cell_type": "code",
   "execution_count": null,
   "metadata": {},
   "outputs": [],
   "source": [
    "# also carry out an aggregation where the count of each instance is considered\n",
    "df_x.groupby(['Transaction Name'], as_index=False).count()"
   ]
  },
  {
   "cell_type": "code",
   "execution_count": null,
   "metadata": {},
   "outputs": [],
   "source": [
    "# can also have the sum and count of the 'Amount' present in the same aggregation\n",
    "df_x.groupby(['Transaction Name'], as_index=False).agg({'Amount':['sum','count']})"
   ]
  },
  {
   "cell_type": "code",
   "execution_count": null,
   "metadata": {},
   "outputs": [],
   "source": [
    "df_y = df[['Supplier ID', 'Amount']]\n",
    "df_y"
   ]
  },
  {
   "cell_type": "code",
   "execution_count": null,
   "metadata": {},
   "outputs": [],
   "source": [
    "df_y.groupby(['Supplier ID'], as_index=False).sum()"
   ]
  },
  {
   "cell_type": "code",
   "execution_count": null,
   "metadata": {},
   "outputs": [],
   "source": [
    "df_y.groupby(['Supplier ID'], as_index=False).count()"
   ]
  },
  {
   "cell_type": "code",
   "execution_count": null,
   "metadata": {},
   "outputs": [],
   "source": [
    "df_y.groupby(['Supplier ID'], as_index=False).agg({'Amount':['sum','count']})"
   ]
  },
  {
   "cell_type": "markdown",
   "metadata": {},
   "source": [
    "#### Joining Data"
   ]
  },
  {
   "cell_type": "code",
   "execution_count": null,
   "metadata": {},
   "outputs": [],
   "source": [
    "# look at table which we have been working with\n",
    "df.head()"
   ]
  },
  {
   "cell_type": "code",
   "execution_count": 33,
   "metadata": {},
   "outputs": [
    {
     "data": {
      "text/html": [
       "<div>\n",
       "<style scoped>\n",
       "    .dataframe tbody tr th:only-of-type {\n",
       "        vertical-align: middle;\n",
       "    }\n",
       "\n",
       "    .dataframe tbody tr th {\n",
       "        vertical-align: top;\n",
       "    }\n",
       "\n",
       "    .dataframe thead th {\n",
       "        text-align: right;\n",
       "    }\n",
       "</style>\n",
       "<table border=\"1\" class=\"dataframe\">\n",
       "  <thead>\n",
       "    <tr style=\"text-align: right;\">\n",
       "      <th></th>\n",
       "      <th>Supplier ID</th>\n",
       "      <th>Supplier Name</th>\n",
       "    </tr>\n",
       "  </thead>\n",
       "  <tbody>\n",
       "    <tr>\n",
       "      <th>0</th>\n",
       "      <td>AA01</td>\n",
       "      <td>Royal Diner for Dinner</td>\n",
       "    </tr>\n",
       "    <tr>\n",
       "      <th>1</th>\n",
       "      <td>AA02</td>\n",
       "      <td>McDonalds</td>\n",
       "    </tr>\n",
       "    <tr>\n",
       "      <th>2</th>\n",
       "      <td>AA03</td>\n",
       "      <td>Uber</td>\n",
       "    </tr>\n",
       "    <tr>\n",
       "      <th>3</th>\n",
       "      <td>AA04</td>\n",
       "      <td>Walmart/Asda</td>\n",
       "    </tr>\n",
       "    <tr>\n",
       "      <th>4</th>\n",
       "      <td>AA05</td>\n",
       "      <td>Transport for London (TFL)</td>\n",
       "    </tr>\n",
       "    <tr>\n",
       "      <th>5</th>\n",
       "      <td>AA06</td>\n",
       "      <td>Dominos</td>\n",
       "    </tr>\n",
       "    <tr>\n",
       "      <th>6</th>\n",
       "      <td>AA07</td>\n",
       "      <td>Super Movie Theatre</td>\n",
       "    </tr>\n",
       "    <tr>\n",
       "      <th>7</th>\n",
       "      <td>AA08</td>\n",
       "      <td>Subway</td>\n",
       "    </tr>\n",
       "    <tr>\n",
       "      <th>8</th>\n",
       "      <td>AA09</td>\n",
       "      <td>Netflix</td>\n",
       "    </tr>\n",
       "  </tbody>\n",
       "</table>\n",
       "</div>"
      ],
      "text/plain": [
       "  Supplier ID               Supplier Name\n",
       "0        AA01      Royal Diner for Dinner\n",
       "1        AA02                   McDonalds\n",
       "2        AA03                        Uber\n",
       "3        AA04                Walmart/Asda\n",
       "4        AA05  Transport for London (TFL)\n",
       "5        AA06                     Dominos\n",
       "6        AA07         Super Movie Theatre\n",
       "7        AA08                      Subway\n",
       "8        AA09                     Netflix"
      ]
     },
     "execution_count": 33,
     "metadata": {},
     "output_type": "execute_result"
    }
   ],
   "source": [
    "#import another table to join the first\n",
    "df_2 = pd.read_csv(r'/home/hzrd/Code/github/data_analysis_python/Data/raw/Expenses_Data_Suppliers.csv')\n",
    "df_2"
   ]
  },
  {
   "cell_type": "markdown",
   "metadata": {},
   "source": [
    "###### The first and second table have the 'Supplier ID' column as a common column between them. We can use this column so that the 'Supplier Name' colum can be introduced to the first table. To do this, we have to define a join"
   ]
  },
  {
   "cell_type": "code",
   "execution_count": 34,
   "metadata": {},
   "outputs": [
    {
     "data": {
      "text/html": [
       "<div>\n",
       "<style scoped>\n",
       "    .dataframe tbody tr th:only-of-type {\n",
       "        vertical-align: middle;\n",
       "    }\n",
       "\n",
       "    .dataframe tbody tr th {\n",
       "        vertical-align: top;\n",
       "    }\n",
       "\n",
       "    .dataframe thead th {\n",
       "        text-align: right;\n",
       "    }\n",
       "</style>\n",
       "<table border=\"1\" class=\"dataframe\">\n",
       "  <thead>\n",
       "    <tr style=\"text-align: right;\">\n",
       "      <th></th>\n",
       "      <th>Transaction ID</th>\n",
       "      <th>Transaction Name</th>\n",
       "      <th>Supplier ID</th>\n",
       "      <th>Amount</th>\n",
       "      <th>Date</th>\n",
       "      <th>Supplier Name</th>\n",
       "    </tr>\n",
       "  </thead>\n",
       "  <tbody>\n",
       "    <tr>\n",
       "      <th>0</th>\n",
       "      <td>10001</td>\n",
       "      <td>Taxi Ride</td>\n",
       "      <td>AA03</td>\n",
       "      <td>15.0</td>\n",
       "      <td>01/11/2019</td>\n",
       "      <td>Uber</td>\n",
       "    </tr>\n",
       "    <tr>\n",
       "      <th>1</th>\n",
       "      <td>10002</td>\n",
       "      <td>Dinner</td>\n",
       "      <td>AA01</td>\n",
       "      <td>40.0</td>\n",
       "      <td>01/11/2019</td>\n",
       "      <td>Royal Diner for Dinner</td>\n",
       "    </tr>\n",
       "    <tr>\n",
       "      <th>2</th>\n",
       "      <td>10003</td>\n",
       "      <td>Groceries</td>\n",
       "      <td>AA04</td>\n",
       "      <td>35.0</td>\n",
       "      <td>02/11/2019</td>\n",
       "      <td>Walmart/Asda</td>\n",
       "    </tr>\n",
       "    <tr>\n",
       "      <th>3</th>\n",
       "      <td>10004</td>\n",
       "      <td>Lunch</td>\n",
       "      <td>AA08</td>\n",
       "      <td>7.0</td>\n",
       "      <td>02/11/2019</td>\n",
       "      <td>Subway</td>\n",
       "    </tr>\n",
       "    <tr>\n",
       "      <th>4</th>\n",
       "      <td>10005</td>\n",
       "      <td>Taxi Ride</td>\n",
       "      <td>AA03</td>\n",
       "      <td>8.5</td>\n",
       "      <td>02/11/2019</td>\n",
       "      <td>Uber</td>\n",
       "    </tr>\n",
       "  </tbody>\n",
       "</table>\n",
       "</div>"
      ],
      "text/plain": [
       "   Transaction ID Transaction Name Supplier ID  Amount        Date  \\\n",
       "0           10001        Taxi Ride        AA03    15.0  01/11/2019   \n",
       "1           10002           Dinner        AA01    40.0  01/11/2019   \n",
       "2           10003        Groceries        AA04    35.0  02/11/2019   \n",
       "3           10004            Lunch        AA08     7.0  02/11/2019   \n",
       "4           10005        Taxi Ride        AA03     8.5  02/11/2019   \n",
       "\n",
       "            Supplier Name  \n",
       "0                    Uber  \n",
       "1  Royal Diner for Dinner  \n",
       "2            Walmart/Asda  \n",
       "3                  Subway  \n",
       "4                    Uber  "
      ]
     },
     "execution_count": 34,
     "metadata": {},
     "output_type": "execute_result"
    }
   ],
   "source": [
    "#           pandas.merge(table_1, table_2, Type_Of_Merge, left_on=label or list/array-like, right_on=label or list/array-like)\n",
    "df_master = pd.merge(df,df_2, how = 'inner', left_on='Supplier ID', right_on='Supplier ID')\n",
    "df_master.head()"
   ]
  }
 ],
 "metadata": {
  "kernelspec": {
   "display_name": ".venv",
   "language": "python",
   "name": "python3"
  },
  "language_info": {
   "codemirror_mode": {
    "name": "ipython",
    "version": 3
   },
   "file_extension": ".py",
   "mimetype": "text/x-python",
   "name": "python",
   "nbconvert_exporter": "python",
   "pygments_lexer": "ipython3",
   "version": "3.12.7"
  }
 },
 "nbformat": 4,
 "nbformat_minor": 2
}
