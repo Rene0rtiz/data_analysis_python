{
 "cells": [
  {
   "cell_type": "markdown",
   "metadata": {},
   "source": [
    "### Pandas Module\n",
    "* allows us to carryout data analytics operations in python\n",
    "    * importing data\n",
    "    * filtering data\n",
    "    * sorting data\n",
    "    * aggregating data\n",
    "    * joining data"
   ]
  },
  {
   "cell_type": "code",
   "execution_count": 2,
   "metadata": {},
   "outputs": [],
   "source": [
    "# first import pandas module\n",
    "import pandas as pd"
   ]
  },
  {
   "cell_type": "markdown",
   "metadata": {},
   "source": [
    "#### Importing and Viewing Data"
   ]
  },
  {
   "cell_type": "code",
   "execution_count": null,
   "metadata": {},
   "outputs": [],
   "source": [
    "# import data and store into variable\n",
    "df = pd.read_csv(r'/home/hzrd/Code/github/data_analysis_python/Data/raw/Expenses_Data_Details.csv')\n",
    "df"
   ]
  },
  {
   "cell_type": "code",
   "execution_count": null,
   "metadata": {},
   "outputs": [],
   "source": [
    "# display small section of data (top x rows: df.head(x))\n",
    "df.head(10)"
   ]
  },
  {
   "cell_type": "code",
   "execution_count": null,
   "metadata": {},
   "outputs": [],
   "source": [
    "# look at the logic of our first filter and apply, output is True/False\n",
    "df[\"Transaction Name\"] == \"Dinner\""
   ]
  },
  {
   "cell_type": "code",
   "execution_count": null,
   "metadata": {},
   "outputs": [],
   "source": [
    "# apply the filter on the data frame itself\n",
    "df[df[\"Transaction Name\"] == 'Dinner']"
   ]
  },
  {
   "cell_type": "code",
   "execution_count": null,
   "metadata": {},
   "outputs": [],
   "source": [
    "# applying numerical filter\n",
    "df[df[\"Amount\"] > 20]"
   ]
  },
  {
   "cell_type": "code",
   "execution_count": null,
   "metadata": {},
   "outputs": [],
   "source": [
    "# applying more than one filter\n",
    "df[(df[\"Amount\"] > 20) & (df[\"Transaction Name\"] == \"Dinner\")]"
   ]
  },
  {
   "cell_type": "code",
   "execution_count": null,
   "metadata": {},
   "outputs": [],
   "source": [
    "# multiple filters (OR)\n",
    "df[(df[\"Transaction Name\"] == \"Lunch\") | (df[\"Transaction Name\"] == 'Dinner')]"
   ]
  },
  {
   "cell_type": "markdown",
   "metadata": {},
   "source": [
    "#### Sorting Data"
   ]
  },
  {
   "cell_type": "code",
   "execution_count": null,
   "metadata": {},
   "outputs": [],
   "source": [
    "df.head()"
   ]
  },
  {
   "cell_type": "code",
   "execution_count": null,
   "metadata": {},
   "outputs": [],
   "source": [
    "# ascending order\n",
    "df.sort_values(by=['Amount'], ascending = True)"
   ]
  },
  {
   "cell_type": "code",
   "execution_count": null,
   "metadata": {},
   "outputs": [],
   "source": [
    "# descending order\n",
    "df.sort_values(by=['Amount'], ascending = False)"
   ]
  },
  {
   "cell_type": "code",
   "execution_count": null,
   "metadata": {},
   "outputs": [],
   "source": [
    "# can also sort on text colums\n",
    "df.sort_values(by=['Supplier ID'], ascending = True)"
   ]
  },
  {
   "cell_type": "code",
   "execution_count": 20,
   "metadata": {},
   "outputs": [
    {
     "data": {
      "text/html": [
       "<div>\n",
       "<style scoped>\n",
       "    .dataframe tbody tr th:only-of-type {\n",
       "        vertical-align: middle;\n",
       "    }\n",
       "\n",
       "    .dataframe tbody tr th {\n",
       "        vertical-align: top;\n",
       "    }\n",
       "\n",
       "    .dataframe thead th {\n",
       "        text-align: right;\n",
       "    }\n",
       "</style>\n",
       "<table border=\"1\" class=\"dataframe\">\n",
       "  <thead>\n",
       "    <tr style=\"text-align: right;\">\n",
       "      <th></th>\n",
       "      <th>Transaction ID</th>\n",
       "      <th>Transaction Name</th>\n",
       "      <th>Supplier ID</th>\n",
       "      <th>Amount</th>\n",
       "      <th>Date</th>\n",
       "    </tr>\n",
       "  </thead>\n",
       "  <tbody>\n",
       "    <tr>\n",
       "      <th>9</th>\n",
       "      <td>10010</td>\n",
       "      <td>Breakfast</td>\n",
       "      <td>AA02</td>\n",
       "      <td>3.0</td>\n",
       "      <td>04/11/2019</td>\n",
       "    </tr>\n",
       "    <tr>\n",
       "      <th>1</th>\n",
       "      <td>10002</td>\n",
       "      <td>Dinner</td>\n",
       "      <td>AA01</td>\n",
       "      <td>40.0</td>\n",
       "      <td>01/11/2019</td>\n",
       "    </tr>\n",
       "    <tr>\n",
       "      <th>6</th>\n",
       "      <td>10007</td>\n",
       "      <td>Dinner</td>\n",
       "      <td>AA06</td>\n",
       "      <td>18.0</td>\n",
       "      <td>02/11/2019</td>\n",
       "    </tr>\n",
       "    <tr>\n",
       "      <th>11</th>\n",
       "      <td>10012</td>\n",
       "      <td>Dinner</td>\n",
       "      <td>AA06</td>\n",
       "      <td>10.0</td>\n",
       "      <td>04/11/2019</td>\n",
       "    </tr>\n",
       "    <tr>\n",
       "      <th>16</th>\n",
       "      <td>10017</td>\n",
       "      <td>Dinner</td>\n",
       "      <td>AA01</td>\n",
       "      <td>35.0</td>\n",
       "      <td>06/11/2019</td>\n",
       "    </tr>\n",
       "    <tr>\n",
       "      <th>5</th>\n",
       "      <td>10006</td>\n",
       "      <td>Entertainment</td>\n",
       "      <td>AA07</td>\n",
       "      <td>13.0</td>\n",
       "      <td>02/11/2019</td>\n",
       "    </tr>\n",
       "    <tr>\n",
       "      <th>8</th>\n",
       "      <td>10009</td>\n",
       "      <td>Entertainment</td>\n",
       "      <td>AA09</td>\n",
       "      <td>9.0</td>\n",
       "      <td>03/11/2019</td>\n",
       "    </tr>\n",
       "    <tr>\n",
       "      <th>10</th>\n",
       "      <td>10011</td>\n",
       "      <td>Groceries</td>\n",
       "      <td>AA04</td>\n",
       "      <td>15.0</td>\n",
       "      <td>04/11/2019</td>\n",
       "    </tr>\n",
       "    <tr>\n",
       "      <th>2</th>\n",
       "      <td>10003</td>\n",
       "      <td>Groceries</td>\n",
       "      <td>AA04</td>\n",
       "      <td>35.0</td>\n",
       "      <td>02/11/2019</td>\n",
       "    </tr>\n",
       "    <tr>\n",
       "      <th>20</th>\n",
       "      <td>10021</td>\n",
       "      <td>Groceries</td>\n",
       "      <td>AA04</td>\n",
       "      <td>30.0</td>\n",
       "      <td>08/11/2019</td>\n",
       "    </tr>\n",
       "    <tr>\n",
       "      <th>3</th>\n",
       "      <td>10004</td>\n",
       "      <td>Lunch</td>\n",
       "      <td>AA08</td>\n",
       "      <td>7.0</td>\n",
       "      <td>02/11/2019</td>\n",
       "    </tr>\n",
       "    <tr>\n",
       "      <th>19</th>\n",
       "      <td>10020</td>\n",
       "      <td>Lunch</td>\n",
       "      <td>AA02</td>\n",
       "      <td>4.5</td>\n",
       "      <td>07/11/2019</td>\n",
       "    </tr>\n",
       "    <tr>\n",
       "      <th>7</th>\n",
       "      <td>10008</td>\n",
       "      <td>Lunch</td>\n",
       "      <td>AA02</td>\n",
       "      <td>6.0</td>\n",
       "      <td>03/11/2019</td>\n",
       "    </tr>\n",
       "    <tr>\n",
       "      <th>14</th>\n",
       "      <td>10015</td>\n",
       "      <td>Lunch</td>\n",
       "      <td>AA08</td>\n",
       "      <td>6.5</td>\n",
       "      <td>05/11/2019</td>\n",
       "    </tr>\n",
       "    <tr>\n",
       "      <th>18</th>\n",
       "      <td>10019</td>\n",
       "      <td>Public Transport</td>\n",
       "      <td>AA05</td>\n",
       "      <td>5.6</td>\n",
       "      <td>07/11/2019</td>\n",
       "    </tr>\n",
       "    <tr>\n",
       "      <th>21</th>\n",
       "      <td>10022</td>\n",
       "      <td>Public Transport</td>\n",
       "      <td>AA05</td>\n",
       "      <td>5.7</td>\n",
       "      <td>08/11/2019</td>\n",
       "    </tr>\n",
       "    <tr>\n",
       "      <th>13</th>\n",
       "      <td>10014</td>\n",
       "      <td>Public Transport</td>\n",
       "      <td>AA05</td>\n",
       "      <td>6.9</td>\n",
       "      <td>05/11/2019</td>\n",
       "    </tr>\n",
       "    <tr>\n",
       "      <th>12</th>\n",
       "      <td>10013</td>\n",
       "      <td>Public Transport</td>\n",
       "      <td>AA05</td>\n",
       "      <td>6.9</td>\n",
       "      <td>04/11/2019</td>\n",
       "    </tr>\n",
       "    <tr>\n",
       "      <th>15</th>\n",
       "      <td>10016</td>\n",
       "      <td>Public Transport</td>\n",
       "      <td>AA05</td>\n",
       "      <td>7.9</td>\n",
       "      <td>06/11/2019</td>\n",
       "    </tr>\n",
       "    <tr>\n",
       "      <th>17</th>\n",
       "      <td>10018</td>\n",
       "      <td>Taxi Ride</td>\n",
       "      <td>AA03</td>\n",
       "      <td>13.0</td>\n",
       "      <td>06/11/2019</td>\n",
       "    </tr>\n",
       "    <tr>\n",
       "      <th>4</th>\n",
       "      <td>10005</td>\n",
       "      <td>Taxi Ride</td>\n",
       "      <td>AA03</td>\n",
       "      <td>8.5</td>\n",
       "      <td>02/11/2019</td>\n",
       "    </tr>\n",
       "    <tr>\n",
       "      <th>0</th>\n",
       "      <td>10001</td>\n",
       "      <td>Taxi Ride</td>\n",
       "      <td>AA03</td>\n",
       "      <td>15.0</td>\n",
       "      <td>01/11/2019</td>\n",
       "    </tr>\n",
       "  </tbody>\n",
       "</table>\n",
       "</div>"
      ],
      "text/plain": [
       "    Transaction ID  Transaction Name Supplier ID  Amount        Date\n",
       "9            10010         Breakfast        AA02     3.0  04/11/2019\n",
       "1            10002            Dinner        AA01    40.0  01/11/2019\n",
       "6            10007            Dinner        AA06    18.0  02/11/2019\n",
       "11           10012            Dinner        AA06    10.0  04/11/2019\n",
       "16           10017            Dinner        AA01    35.0  06/11/2019\n",
       "5            10006     Entertainment        AA07    13.0  02/11/2019\n",
       "8            10009     Entertainment        AA09     9.0  03/11/2019\n",
       "10           10011         Groceries        AA04    15.0  04/11/2019\n",
       "2            10003         Groceries        AA04    35.0  02/11/2019\n",
       "20           10021         Groceries        AA04    30.0  08/11/2019\n",
       "3            10004             Lunch        AA08     7.0  02/11/2019\n",
       "19           10020             Lunch        AA02     4.5  07/11/2019\n",
       "7            10008             Lunch        AA02     6.0  03/11/2019\n",
       "14           10015             Lunch        AA08     6.5  05/11/2019\n",
       "18           10019  Public Transport        AA05     5.6  07/11/2019\n",
       "21           10022  Public Transport        AA05     5.7  08/11/2019\n",
       "13           10014  Public Transport        AA05     6.9  05/11/2019\n",
       "12           10013  Public Transport        AA05     6.9  04/11/2019\n",
       "15           10016  Public Transport        AA05     7.9  06/11/2019\n",
       "17           10018         Taxi Ride        AA03    13.0  06/11/2019\n",
       "4            10005         Taxi Ride        AA03     8.5  02/11/2019\n",
       "0            10001         Taxi Ride        AA03    15.0  01/11/2019"
      ]
     },
     "execution_count": 20,
     "metadata": {},
     "output_type": "execute_result"
    }
   ],
   "source": [
    "df.sort_values(by=['Transaction Name'], ascending = True)"
   ]
  }
 ],
 "metadata": {
  "kernelspec": {
   "display_name": ".venv",
   "language": "python",
   "name": "python3"
  },
  "language_info": {
   "codemirror_mode": {
    "name": "ipython",
    "version": 3
   },
   "file_extension": ".py",
   "mimetype": "text/x-python",
   "name": "python",
   "nbconvert_exporter": "python",
   "pygments_lexer": "ipython3",
   "version": "3.12.7"
  }
 },
 "nbformat": 4,
 "nbformat_minor": 2
}
